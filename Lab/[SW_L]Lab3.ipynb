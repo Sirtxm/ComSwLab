{
  "cells": [
    {
      "cell_type": "markdown",
      "metadata": {
        "id": "GcUh1-Hf2z3i"
      },
      "source": [
        "Code ใน สไลด์บ้างส่วน"
      ]
    },
    {
      "cell_type": "markdown",
      "metadata": {
        "id": "9crXWvZ931Kk"
      },
      "source": [
        "การนับอักษระในคำ"
      ]
    },
    {
      "cell_type": "code",
      "execution_count": null,
      "metadata": {
        "colab": {
          "base_uri": "https://localhost:8080/"
        },
        "id": "QA_21Ldo3dnA",
        "outputId": "bd0e691e-b8a0-49b6-b74e-63cf670cba08"
      },
      "outputs": [
        {
          "name": "stdout",
          "output_type": "stream",
          "text": [
            "3\n"
          ]
        }
      ],
      "source": [
        "word = 'banana'\n",
        "count = 0\n",
        "for letter in word:\n",
        "  if letter =='a':\n",
        "    count = count+1\n",
        "print(count)"
      ]
    },
    {
      "cell_type": "code",
      "execution_count": null,
      "metadata": {
        "colab": {
          "base_uri": "https://localhost:8080/"
        },
        "id": "d6ek3P-e4CHQ",
        "outputId": "5f3fdd12-c14a-4e8f-fe53-4b64f843a688"
      },
      "outputs": [
        {
          "name": "stdout",
          "output_type": "stream",
          "text": [
            "All right,bananas.\n",
            "All right,bananas.\n"
          ]
        }
      ],
      "source": [
        "if word == 'banana':\n",
        "  print('All right,bananas.')\n",
        "if word < 'banana':\n",
        "  print('Your word,'+word+', comes before banana.')\n",
        "elif word > 'banana':\n",
        "  print('Your word,'+word+',come after banana.')\n",
        "else:\n",
        "  print('All right,bananas.')"
      ]
    },
    {
      "cell_type": "markdown",
      "metadata": {
        "id": "43EuKxADwhyJ"
      },
      "source": [
        "ให้นักศึกษาตรวจสอบ path of the current working"
      ]
    },
    {
      "cell_type": "code",
      "execution_count": 2,
      "metadata": {
        "id": "5ORJuiKxwnoC"
      },
      "outputs": [],
      "source": [
        "import os"
      ]
    },
    {
      "cell_type": "code",
      "execution_count": 3,
      "metadata": {
        "colab": {
          "base_uri": "https://localhost:8080/",
          "height": 35
        },
        "id": "l7xzjgLIwpgs",
        "outputId": "098054c0-4898-4668-f98b-f998ee0741e2"
      },
      "outputs": [
        {
          "data": {
            "text/plain": [
              "'c:\\\\ComSwLab\\\\Lab'"
            ]
          },
          "execution_count": 3,
          "metadata": {},
          "output_type": "execute_result"
        }
      ],
      "source": [
        "os.getcwd()"
      ]
    },
    {
      "cell_type": "code",
      "execution_count": 5,
      "metadata": {
        "colab": {
          "base_uri": "https://localhost:8080/"
        },
        "id": "LlOwaYMgxtlA",
        "outputId": "4bfee5da-9780-4af9-b30c-f9dac87e7be6"
      },
      "outputs": [
        {
          "ename": "ModuleNotFoundError",
          "evalue": "No module named 'google'",
          "output_type": "error",
          "traceback": [
            "\u001b[1;31m---------------------------------------------------------------------------\u001b[0m",
            "\u001b[1;31mModuleNotFoundError\u001b[0m                       Traceback (most recent call last)",
            "Cell \u001b[1;32mIn[5], line 1\u001b[0m\n\u001b[1;32m----> 1\u001b[0m \u001b[38;5;28;01mfrom\u001b[39;00m \u001b[38;5;21;01mgoogle\u001b[39;00m\u001b[38;5;21;01m.\u001b[39;00m\u001b[38;5;21;01mcolab\u001b[39;00m \u001b[38;5;28;01mimport\u001b[39;00m drive\n\u001b[0;32m      2\u001b[0m drive\u001b[38;5;241m.\u001b[39mmount(\u001b[38;5;124m'\u001b[39m\u001b[38;5;124m/content/drive\u001b[39m\u001b[38;5;124m'\u001b[39m)\n",
            "\u001b[1;31mModuleNotFoundError\u001b[0m: No module named 'google'"
          ]
        }
      ],
      "source": [
        "from google.colab import drive\n",
        "drive.mount('/content/drive')"
      ]
    },
    {
      "cell_type": "code",
      "execution_count": null,
      "metadata": {
        "colab": {
          "base_uri": "https://localhost:8080/"
        },
        "id": "H4_JDQBP5qUy",
        "outputId": "1bb65207-efca-4350-ab0f-c966f340a0ac"
      },
      "outputs": [
        {
          "name": "stdout",
          "output_type": "stream",
          "text": [
            "Sat\n",
            "Fri\n",
            "Fri\n",
            "Fri\n",
            "Fri\n",
            "Fri\n",
            "Fri\n",
            "Fri\n",
            "Fri\n",
            "Fri\n",
            "Fri\n",
            "Fri\n",
            "Fri\n",
            "Fri\n",
            "Fri\n",
            "Fri\n",
            "Fri\n",
            "Fri\n",
            "Fri\n",
            "Fri\n",
            "Fri\n",
            "Thu\n",
            "Thu\n",
            "Thu\n",
            "Thu\n",
            "Thu\n",
            "Thu\n",
            "Thu\n",
            "Thu\n",
            "Thu\n",
            "Thu\n",
            "Thu\n",
            "Thu\n",
            "Thu\n",
            "Thu\n",
            "Thu\n",
            "Thu\n",
            "Thu\n",
            "Thu\n",
            "Thu\n",
            "Thu\n",
            "Thu\n",
            "Thu\n",
            "Thu\n",
            "Thu\n",
            "Thu\n",
            "Thu\n",
            "Thu\n",
            "Thu\n",
            "Thu\n",
            "Thu\n",
            "Thu\n",
            "Thu\n",
            "Thu\n",
            "Thu\n",
            "Thu\n",
            "Thu\n",
            "Thu\n",
            "Thu\n",
            "Thu\n",
            "Thu\n",
            "Thu\n",
            "Thu\n",
            "Wed\n",
            "Wed\n",
            "Wed\n",
            "Wed\n",
            "Wed\n",
            "Wed\n",
            "Wed\n",
            "Wed\n",
            "Wed\n",
            "Wed\n",
            "Wed\n",
            "Wed\n",
            "Wed\n",
            "Wed\n",
            "Wed\n",
            "Wed\n",
            "Wed\n",
            "Wed\n",
            "Wed\n",
            "Wed\n",
            "Wed\n",
            "Wed\n",
            "Wed\n",
            "Wed\n",
            "Wed\n",
            "Wed\n",
            "Wed\n",
            "Wed\n",
            "Wed\n",
            "Wed\n",
            "Wed\n",
            "Wed\n",
            "Wed\n",
            "Wed\n",
            "Tue\n",
            "Tue\n",
            "Mon\n",
            "Mon\n",
            "Mon\n",
            "Mon\n",
            "Mon\n",
            "Mon\n",
            "Mon\n",
            "Sun\n",
            "Sun\n",
            "Sun\n",
            "Sun\n",
            "Sun\n",
            "Sun\n",
            "Sun\n",
            "Sat\n",
            "Sat\n",
            "Sat\n",
            "Sat\n",
            "Fri\n",
            "Fri\n",
            "Fri\n",
            "Fri\n",
            "Fri\n",
            "Fri\n",
            "Thu\n",
            "Thu\n",
            "Thu\n",
            "Thu\n",
            "Thu\n",
            "Thu\n",
            "Thu\n",
            "Thu\n",
            "Thu\n",
            "Thu\n",
            "Thu\n",
            "Thu\n",
            "Thu\n",
            "Thu\n",
            "Thu\n",
            "Thu\n",
            "Thu\n",
            "Wed\n",
            "Wed\n",
            "Wed\n",
            "Tue\n",
            "Mon\n",
            "Mon\n",
            "Sun\n",
            "Sat\n",
            "Sat\n",
            "Fri\n",
            "Fri\n",
            "Fri\n",
            "Fri\n",
            "Fri\n",
            "Fri\n",
            "Fri\n",
            "Fri\n",
            "Fri\n",
            "Fri\n",
            "Fri\n",
            "Fri\n",
            "Fri\n",
            "Fri\n",
            "Fri\n",
            "Fri\n",
            "Fri\n",
            "Fri\n",
            "Fri\n",
            "Fri\n",
            "Fri\n",
            "Fri\n",
            "Fri\n",
            "Fri\n",
            "Fri\n",
            "Fri\n",
            "Fri\n",
            "Fri\n",
            "Fri\n",
            "Fri\n",
            "Fri\n",
            "Fri\n",
            "Fri\n",
            "Fri\n",
            "Fri\n",
            "Fri\n",
            "Fri\n",
            "Fri\n",
            "Thu\n",
            "Thu\n",
            "Thu\n",
            "Thu\n",
            "Thu\n",
            "Thu\n",
            "Thu\n",
            "Thu\n",
            "Thu\n",
            "Thu\n",
            "Thu\n",
            "Thu\n",
            "Thu\n",
            "Thu\n",
            "Thu\n",
            "Thu\n",
            "Thu\n",
            "Thu\n",
            "Thu\n",
            "Thu\n",
            "Thu\n",
            "Thu\n",
            "Thu\n",
            "Thu\n",
            "Thu\n",
            "Thu\n",
            "Thu\n",
            "Thu\n",
            "Thu\n",
            "Thu\n",
            "Thu\n",
            "Thu\n",
            "Thu\n",
            "Thu\n",
            "Thu\n",
            "Thu\n",
            "Thu\n",
            "Thu\n",
            "Thu\n",
            "Thu\n",
            "Thu\n",
            "Thu\n",
            "Thu\n",
            "Thu\n",
            "Thu\n",
            "Thu\n",
            "Thu\n",
            "Thu\n",
            "Thu\n",
            "Thu\n",
            "Thu\n",
            "Thu\n",
            "Thu\n",
            "Thu\n",
            "Thu\n",
            "Thu\n",
            "Wed\n",
            "Wed\n",
            "Wed\n",
            "Wed\n",
            "Wed\n",
            "Wed\n",
            "Wed\n",
            "Wed\n",
            "Wed\n",
            "Wed\n",
            "Wed\n",
            "Wed\n",
            "Wed\n",
            "Wed\n",
            "Wed\n",
            "Wed\n",
            "Wed\n",
            "Wed\n",
            "Wed\n",
            "Wed\n",
            "Wed\n",
            "Wed\n",
            "Wed\n",
            "Wed\n",
            "Wed\n",
            "Wed\n",
            "Wed\n",
            "Wed\n",
            "Wed\n",
            "Wed\n",
            "Wed\n",
            "Wed\n",
            "Wed\n",
            "Wed\n",
            "Wed\n",
            "Wed\n",
            "Wed\n",
            "Wed\n",
            "Wed\n",
            "Wed\n",
            "Wed\n",
            "Wed\n",
            "Wed\n",
            "Tue\n",
            "Tue\n",
            "Tue\n",
            "Tue\n",
            "Tue\n",
            "Tue\n",
            "Tue\n",
            "Tue\n",
            "Tue\n",
            "Tue\n",
            "Tue\n",
            "Tue\n",
            "Tue\n",
            "Tue\n",
            "Tue\n",
            "Tue\n",
            "Tue\n",
            "Tue\n",
            "Tue\n",
            "Tue\n",
            "Tue\n",
            "Tue\n",
            "Tue\n",
            "Tue\n",
            "Tue\n",
            "Tue\n",
            "Tue\n",
            "Tue\n",
            "Tue\n",
            "Tue\n",
            "Tue\n",
            "Tue\n",
            "Tue\n",
            "Tue\n",
            "Tue\n",
            "Tue\n",
            "Tue\n",
            "Tue\n",
            "Tue\n",
            "Tue\n",
            "Tue\n",
            "Tue\n",
            "Tue\n",
            "Tue\n",
            "Tue\n",
            "Tue\n",
            "Tue\n",
            "Tue\n",
            "Tue\n",
            "Tue\n",
            "Tue\n",
            "Tue\n",
            "Tue\n",
            "Tue\n",
            "Tue\n",
            "Tue\n",
            "Tue\n",
            "Tue\n",
            "Tue\n",
            "Tue\n",
            "Tue\n",
            "Tue\n",
            "Tue\n",
            "Tue\n",
            "Tue\n",
            "Tue\n",
            "Tue\n",
            "Tue\n",
            "Tue\n",
            "Mon\n",
            "Mon\n",
            "Mon\n",
            "Mon\n",
            "Mon\n",
            "Mon\n",
            "Mon\n",
            "Mon\n",
            "Mon\n",
            "Mon\n",
            "Mon\n",
            "Mon\n",
            "Mon\n",
            "Mon\n",
            "Mon\n",
            "Mon\n",
            "Mon\n",
            "Mon\n",
            "Mon\n",
            "Mon\n",
            "Mon\n",
            "Mon\n",
            "Mon\n",
            "Mon\n",
            "Mon\n",
            "Mon\n",
            "Mon\n",
            "Mon\n",
            "Mon\n",
            "Mon\n",
            "Mon\n",
            "Mon\n",
            "Mon\n",
            "Mon\n",
            "Mon\n",
            "Mon\n",
            "Mon\n",
            "Mon\n",
            "Mon\n",
            "Mon\n",
            "Mon\n",
            "Mon\n",
            "Mon\n",
            "Mon\n",
            "Mon\n",
            "Mon\n",
            "Mon\n",
            "Mon\n",
            "Mon\n",
            "Mon\n",
            "Mon\n",
            "Mon\n",
            "Mon\n",
            "Mon\n",
            "Mon\n",
            "Mon\n",
            "Mon\n",
            "Mon\n",
            "Sun\n",
            "Sun\n",
            "Sun\n",
            "Sun\n",
            "Sun\n",
            "Sun\n",
            "Sun\n",
            "Sun\n",
            "Sun\n",
            "Sun\n",
            "Sun\n",
            "Sun\n",
            "Sun\n",
            "Sun\n",
            "Sun\n",
            "Sat\n",
            "Sat\n",
            "Sat\n",
            "Sat\n",
            "Sat\n",
            "Sat\n",
            "Sat\n",
            "Sat\n",
            "Sat\n",
            "Sat\n",
            "Sat\n",
            "Sat\n",
            "Sat\n",
            "Sat\n",
            "Sat\n",
            "Sat\n",
            "Sat\n",
            "Sat\n",
            "Sat\n",
            "Sat\n",
            "Sat\n",
            "Sat\n",
            "Sat\n",
            "Sat\n",
            "Fri\n",
            "Fri\n",
            "Fri\n",
            "Fri\n",
            "Fri\n",
            "Fri\n",
            "Fri\n",
            "Fri\n",
            "Fri\n",
            "Fri\n",
            "Fri\n",
            "Fri\n",
            "Fri\n",
            "Fri\n",
            "Fri\n",
            "Fri\n",
            "Fri\n",
            "Fri\n",
            "Fri\n",
            "Fri\n",
            "Fri\n",
            "Fri\n",
            "Fri\n",
            "Fri\n",
            "Fri\n",
            "Fri\n",
            "Fri\n",
            "Fri\n",
            "Fri\n",
            "Fri\n",
            "Fri\n",
            "Fri\n",
            "Fri\n",
            "Fri\n",
            "Fri\n",
            "Fri\n",
            "Fri\n",
            "Fri\n",
            "Fri\n",
            "Fri\n",
            "Fri\n",
            "Fri\n",
            "Fri\n",
            "Fri\n",
            "Fri\n",
            "Fri\n",
            "Fri\n",
            "Fri\n",
            "Fri\n",
            "Fri\n",
            "Fri\n",
            "Fri\n",
            "Fri\n",
            "Fri\n",
            "Fri\n",
            "Fri\n",
            "Thu\n",
            "Thu\n",
            "Thu\n",
            "Thu\n",
            "Thu\n",
            "Thu\n",
            "Thu\n",
            "Thu\n",
            "Thu\n",
            "Thu\n",
            "Thu\n",
            "Thu\n",
            "Thu\n",
            "Thu\n",
            "Thu\n",
            "Thu\n",
            "Thu\n",
            "Thu\n",
            "Thu\n",
            "Thu\n",
            "Thu\n",
            "Thu\n",
            "Thu\n",
            "Thu\n",
            "Thu\n",
            "Thu\n",
            "Thu\n",
            "Thu\n",
            "Thu\n",
            "Thu\n",
            "Thu\n",
            "Thu\n",
            "Thu\n",
            "Thu\n",
            "Thu\n",
            "Thu\n",
            "Thu\n",
            "Thu\n",
            "Thu\n",
            "Thu\n",
            "Thu\n",
            "Thu\n",
            "Thu\n",
            "Thu\n",
            "Thu\n",
            "Thu\n",
            "Thu\n",
            "Thu\n",
            "Thu\n",
            "Thu\n",
            "Thu\n",
            "Thu\n",
            "Thu\n",
            "Thu\n",
            "Thu\n",
            "Thu\n",
            "Thu\n",
            "Thu\n",
            "Thu\n",
            "Thu\n",
            "Wed\n",
            "Wed\n",
            "Wed\n",
            "Wed\n",
            "Wed\n",
            "Wed\n",
            "Wed\n",
            "Wed\n",
            "Wed\n",
            "Wed\n",
            "Wed\n",
            "Wed\n",
            "Wed\n",
            "Wed\n",
            "Wed\n",
            "Wed\n",
            "Wed\n",
            "Wed\n",
            "Wed\n",
            "Wed\n",
            "Wed\n",
            "Wed\n",
            "Wed\n",
            "Wed\n",
            "Wed\n",
            "Wed\n",
            "Wed\n",
            "Wed\n",
            "Wed\n",
            "Wed\n",
            "Wed\n",
            "Wed\n",
            "Wed\n",
            "Wed\n",
            "Wed\n",
            "Wed\n",
            "Wed\n",
            "Wed\n",
            "Wed\n",
            "Wed\n",
            "Wed\n",
            "Wed\n",
            "Wed\n",
            "Wed\n",
            "Wed\n",
            "Wed\n",
            "Tue\n",
            "Tue\n",
            "Tue\n",
            "Tue\n",
            "Tue\n",
            "Tue\n",
            "Tue\n",
            "Tue\n",
            "Tue\n",
            "Tue\n",
            "Tue\n",
            "Tue\n",
            "Tue\n",
            "Tue\n",
            "Tue\n",
            "Tue\n",
            "Tue\n",
            "Tue\n",
            "Tue\n",
            "Tue\n",
            "Tue\n",
            "Tue\n",
            "Tue\n",
            "Tue\n",
            "Tue\n",
            "Tue\n",
            "Tue\n",
            "Tue\n",
            "Tue\n",
            "Tue\n",
            "Tue\n",
            "Tue\n",
            "Mon\n",
            "Mon\n",
            "Mon\n",
            "Mon\n",
            "Mon\n",
            "Mon\n",
            "Mon\n",
            "Mon\n",
            "Mon\n",
            "Mon\n",
            "Mon\n",
            "Mon\n",
            "Sun\n",
            "Sun\n",
            "Sun\n",
            "Sat\n",
            "Sat\n",
            "Fri\n",
            "Fri\n",
            "Fri\n",
            "Fri\n",
            "Fri\n",
            "Fri\n",
            "Fri\n",
            "Fri\n",
            "Fri\n",
            "Fri\n",
            "Fri\n",
            "Fri\n",
            "Fri\n",
            "Fri\n",
            "Fri\n",
            "Fri\n",
            "Fri\n",
            "Fri\n",
            "Fri\n",
            "Fri\n",
            "Fri\n",
            "Fri\n",
            "Fri\n",
            "Fri\n",
            "Fri\n",
            "Fri\n",
            "Fri\n",
            "Fri\n",
            "Fri\n",
            "Fri\n",
            "Fri\n",
            "Fri\n",
            "Fri\n",
            "Fri\n",
            "Fri\n",
            "Fri\n",
            "Fri\n",
            "Fri\n",
            "Fri\n",
            "Fri\n",
            "Fri\n",
            "Fri\n",
            "Fri\n",
            "Fri\n",
            "Fri\n",
            "Fri\n",
            "Fri\n",
            "Fri\n",
            "Fri\n",
            "Fri\n",
            "Fri\n",
            "Fri\n",
            "Fri\n",
            "Fri\n",
            "Fri\n",
            "Fri\n",
            "Thu\n",
            "Thu\n",
            "Thu\n",
            "Thu\n",
            "Thu\n",
            "Thu\n",
            "Thu\n",
            "Thu\n",
            "Thu\n",
            "Thu\n",
            "Thu\n",
            "Thu\n",
            "Thu\n",
            "Thu\n",
            "Thu\n",
            "Thu\n",
            "Thu\n",
            "Thu\n",
            "Thu\n",
            "Thu\n",
            "Thu\n",
            "Thu\n",
            "Thu\n",
            "Thu\n",
            "Thu\n",
            "Thu\n",
            "Thu\n",
            "Thu\n",
            "Thu\n",
            "Thu\n",
            "Thu\n",
            "Thu\n",
            "Thu\n",
            "Thu\n",
            "Thu\n",
            "Thu\n",
            "Thu\n",
            "Thu\n",
            "Wed\n",
            "Wed\n",
            "Wed\n",
            "Wed\n",
            "Wed\n",
            "Wed\n",
            "Wed\n",
            "Wed\n",
            "Wed\n",
            "Tue\n",
            "Tue\n",
            "Tue\n",
            "Tue\n",
            "Tue\n",
            "Tue\n",
            "Tue\n",
            "Tue\n",
            "Tue\n",
            "Mon\n",
            "Mon\n",
            "Mon\n",
            "Mon\n",
            "Mon\n",
            "Mon\n",
            "Mon\n",
            "Mon\n",
            "Mon\n",
            "Mon\n",
            "Mon\n",
            "Mon\n",
            "Mon\n",
            "Mon\n",
            "Mon\n",
            "Mon\n",
            "Mon\n",
            "Sun\n",
            "Sun\n",
            "Sun\n",
            "Sun\n",
            "Sat\n",
            "Sat\n",
            "Sat\n",
            "Sat\n",
            "Sat\n",
            "Sat\n",
            "Sat\n",
            "Sat\n",
            "Sat\n",
            "Fri\n",
            "Fri\n",
            "Fri\n",
            "Fri\n",
            "Fri\n",
            "Fri\n",
            "Fri\n",
            "Fri\n",
            "Fri\n",
            "Fri\n",
            "Fri\n",
            "Fri\n",
            "Fri\n",
            "Fri\n",
            "Fri\n",
            "Fri\n",
            "Fri\n",
            "Fri\n",
            "Fri\n",
            "Fri\n",
            "Fri\n",
            "Fri\n",
            "Fri\n",
            "Fri\n",
            "Fri\n",
            "Fri\n",
            "Fri\n",
            "Fri\n",
            "Fri\n",
            "Fri\n",
            "Thu\n",
            "Thu\n",
            "Thu\n",
            "Thu\n",
            "Thu\n",
            "Thu\n",
            "Thu\n",
            "Thu\n",
            "Thu\n",
            "Thu\n",
            "Thu\n",
            "Thu\n",
            "Thu\n",
            "Thu\n",
            "Thu\n",
            "Thu\n",
            "Thu\n",
            "Thu\n",
            "Thu\n",
            "Thu\n",
            "Thu\n",
            "Thu\n",
            "Thu\n",
            "Thu\n",
            "Thu\n",
            "Thu\n",
            "Thu\n",
            "Thu\n",
            "Thu\n",
            "Thu\n",
            "Thu\n",
            "Thu\n",
            "Thu\n",
            "Thu\n",
            "Thu\n",
            "Thu\n",
            "Thu\n",
            "Thu\n",
            "Thu\n",
            "Thu\n",
            "Thu\n",
            "Thu\n",
            "Thu\n",
            "Thu\n",
            "Thu\n",
            "Thu\n",
            "Thu\n",
            "Thu\n",
            "Thu\n",
            "Thu\n",
            "Thu\n",
            "Thu\n",
            "Wed\n",
            "Wed\n",
            "Wed\n",
            "Wed\n",
            "Wed\n",
            "Wed\n",
            "Wed\n",
            "Wed\n",
            "Wed\n",
            "Wed\n",
            "Wed\n",
            "Wed\n",
            "Wed\n",
            "Wed\n",
            "Wed\n",
            "Wed\n",
            "Wed\n",
            "Wed\n",
            "Wed\n",
            "Wed\n",
            "Wed\n",
            "Wed\n",
            "Wed\n",
            "Wed\n",
            "Wed\n",
            "Wed\n",
            "Wed\n",
            "Wed\n",
            "Wed\n",
            "Wed\n",
            "Wed\n",
            "Tue\n",
            "Tue\n",
            "Tue\n",
            "Tue\n",
            "Tue\n",
            "Tue\n",
            "Tue\n",
            "Tue\n",
            "Tue\n",
            "Tue\n",
            "Tue\n",
            "Tue\n",
            "Tue\n",
            "Tue\n",
            "Tue\n",
            "Tue\n",
            "Tue\n",
            "Tue\n",
            "Tue\n",
            "Tue\n",
            "Tue\n",
            "Tue\n",
            "Tue\n",
            "Mon\n",
            "Mon\n",
            "Mon\n",
            "Mon\n",
            "Mon\n",
            "Mon\n",
            "Mon\n",
            "Mon\n",
            "Mon\n",
            "Mon\n",
            "Mon\n",
            "Mon\n",
            "Sun\n",
            "Sun\n",
            "Sun\n",
            "Sat\n",
            "Sat\n",
            "Sat\n",
            "Sat\n",
            "Fri\n",
            "Wed\n",
            "Wed\n",
            "Wed\n",
            "Wed\n",
            "Wed\n",
            "Wed\n",
            "Wed\n",
            "Wed\n",
            "Wed\n",
            "Wed\n",
            "Wed\n",
            "Wed\n",
            "Wed\n",
            "Wed\n",
            "Wed\n",
            "Wed\n",
            "Wed\n",
            "Wed\n",
            "Wed\n",
            "Wed\n",
            "Tue\n",
            "Tue\n",
            "Tue\n",
            "Tue\n",
            "Tue\n",
            "Tue\n",
            "Tue\n",
            "Tue\n",
            "Tue\n",
            "Tue\n",
            "Tue\n",
            "Tue\n",
            "Tue\n",
            "Tue\n",
            "Tue\n",
            "Tue\n",
            "Tue\n",
            "Tue\n",
            "Tue\n",
            "Tue\n",
            "Tue\n",
            "Tue\n",
            "Tue\n",
            "Tue\n",
            "Tue\n",
            "Tue\n",
            "Tue\n",
            "Tue\n",
            "Tue\n",
            "Tue\n",
            "Tue\n",
            "Tue\n",
            "Tue\n",
            "Tue\n",
            "Tue\n",
            "Tue\n",
            "Tue\n",
            "Tue\n",
            "Tue\n",
            "Tue\n",
            "Tue\n",
            "Tue\n",
            "Tue\n",
            "Tue\n",
            "Tue\n",
            "Tue\n",
            "Tue\n",
            "Tue\n",
            "Tue\n",
            "Tue\n",
            "Tue\n",
            "Tue\n",
            "Tue\n",
            "Tue\n",
            "Tue\n",
            "Tue\n",
            "Tue\n",
            "Tue\n",
            "Tue\n",
            "Tue\n",
            "Tue\n",
            "Tue\n",
            "Tue\n",
            "Tue\n",
            "Tue\n",
            "Tue\n",
            "Tue\n",
            "Mon\n",
            "Mon\n",
            "Mon\n",
            "Mon\n",
            "Mon\n",
            "Mon\n",
            "Mon\n",
            "Mon\n",
            "Mon\n",
            "Mon\n",
            "Mon\n",
            "Mon\n",
            "Mon\n",
            "Mon\n",
            "Mon\n",
            "Mon\n",
            "Mon\n",
            "Mon\n",
            "Mon\n",
            "Mon\n",
            "Mon\n",
            "Mon\n",
            "Mon\n",
            "Mon\n",
            "Mon\n",
            "Mon\n",
            "Mon\n",
            "Mon\n",
            "Mon\n",
            "Mon\n",
            "Mon\n",
            "Mon\n",
            "Mon\n",
            "Mon\n",
            "Mon\n",
            "Mon\n",
            "Mon\n",
            "Mon\n",
            "Mon\n",
            "Mon\n",
            "Mon\n",
            "Mon\n",
            "Mon\n",
            "Mon\n",
            "Mon\n",
            "Mon\n",
            "Mon\n",
            "Mon\n",
            "Mon\n",
            "Mon\n",
            "Mon\n",
            "Mon\n",
            "Sun\n",
            "Fri\n",
            "Fri\n",
            "Fri\n",
            "Fri\n",
            "Fri\n",
            "Fri\n",
            "Fri\n",
            "Fri\n",
            "Fri\n",
            "Fri\n",
            "Fri\n",
            "Fri\n",
            "Fri\n",
            "Fri\n",
            "Fri\n",
            "Fri\n",
            "Fri\n",
            "Fri\n",
            "Fri\n",
            "Fri\n",
            "Fri\n",
            "Fri\n",
            "Thu\n",
            "Thu\n",
            "Thu\n",
            "Thu\n",
            "Thu\n",
            "Thu\n",
            "Thu\n",
            "Thu\n",
            "Thu\n",
            "Thu\n",
            "Thu\n",
            "Thu\n",
            "Thu\n",
            "Thu\n",
            "Thu\n",
            "Thu\n",
            "Thu\n",
            "Thu\n",
            "Thu\n",
            "Thu\n",
            "Thu\n",
            "Thu\n",
            "Thu\n",
            "Thu\n",
            "Thu\n",
            "Thu\n",
            "Thu\n",
            "Thu\n",
            "Thu\n",
            "Thu\n",
            "Thu\n",
            "Thu\n",
            "Thu\n",
            "Thu\n",
            "Thu\n",
            "Thu\n",
            "Thu\n",
            "Thu\n",
            "Wed\n",
            "Wed\n",
            "Wed\n",
            "Wed\n",
            "Wed\n",
            "Wed\n",
            "Wed\n",
            "Wed\n",
            "Wed\n",
            "Wed\n",
            "Wed\n",
            "Wed\n",
            "Wed\n",
            "Wed\n",
            "Wed\n",
            "Wed\n",
            "Wed\n",
            "Wed\n",
            "Wed\n",
            "Wed\n",
            "Wed\n",
            "Wed\n",
            "Wed\n",
            "Wed\n",
            "Wed\n",
            "Wed\n",
            "Wed\n",
            "Wed\n",
            "Wed\n",
            "Wed\n",
            "Wed\n",
            "Wed\n",
            "Wed\n",
            "Wed\n",
            "Wed\n",
            "Wed\n",
            "Wed\n",
            "Wed\n",
            "Wed\n",
            "Wed\n",
            "Tue\n",
            "Tue\n",
            "Tue\n",
            "Tue\n",
            "Tue\n",
            "Tue\n",
            "Tue\n",
            "Tue\n",
            "Tue\n",
            "Tue\n",
            "Tue\n",
            "Tue\n",
            "Tue\n",
            "Tue\n",
            "Tue\n",
            "Tue\n",
            "Tue\n",
            "Tue\n",
            "Mon\n",
            "Mon\n",
            "Mon\n",
            "Mon\n",
            "Mon\n",
            "Mon\n",
            "Mon\n",
            "Mon\n",
            "Mon\n",
            "Mon\n",
            "Sun\n",
            "Sun\n",
            "Sun\n",
            "Sun\n",
            "Sun\n",
            "Sat\n",
            "Sat\n",
            "Sat\n",
            "Sat\n",
            "Sat\n",
            "Sat\n",
            "Sat\n",
            "Sat\n",
            "Sat\n",
            "Sat\n",
            "Sat\n",
            "Sat\n",
            "Sat\n",
            "Sat\n",
            "Sat\n",
            "Fri\n",
            "Fri\n",
            "Fri\n",
            "Fri\n",
            "Fri\n",
            "Fri\n",
            "Fri\n",
            "Fri\n",
            "Fri\n",
            "Fri\n",
            "Fri\n",
            "Fri\n",
            "Fri\n",
            "Fri\n",
            "Fri\n",
            "Fri\n",
            "Fri\n",
            "Fri\n",
            "Fri\n",
            "Fri\n",
            "Fri\n",
            "Fri\n",
            "Fri\n",
            "Fri\n",
            "Fri\n",
            "Fri\n",
            "Fri\n",
            "Thu\n",
            "Thu\n",
            "Thu\n",
            "Thu\n",
            "Thu\n",
            "Thu\n",
            "Thu\n",
            "Thu\n",
            "Thu\n",
            "Thu\n",
            "Thu\n",
            "Thu\n",
            "Thu\n",
            "Thu\n",
            "Thu\n",
            "Thu\n",
            "Thu\n",
            "Thu\n",
            "Thu\n",
            "Thu\n",
            "Thu\n",
            "Thu\n",
            "Thu\n",
            "Thu\n",
            "Thu\n",
            "Thu\n",
            "Thu\n",
            "Thu\n",
            "Thu\n",
            "Thu\n",
            "Wed\n",
            "Wed\n",
            "Wed\n",
            "Wed\n",
            "Wed\n",
            "Wed\n",
            "Wed\n",
            "Wed\n",
            "Wed\n",
            "Wed\n",
            "Wed\n",
            "Wed\n",
            "Wed\n",
            "Wed\n",
            "Wed\n",
            "Wed\n",
            "Wed\n",
            "Wed\n",
            "Wed\n",
            "Wed\n",
            "Wed\n",
            "Wed\n",
            "Wed\n",
            "Wed\n",
            "Wed\n",
            "Wed\n",
            "Wed\n",
            "Wed\n",
            "Wed\n",
            "Wed\n",
            "Wed\n",
            "Wed\n",
            "Wed\n",
            "Tue\n",
            "Tue\n",
            "Tue\n",
            "Tue\n",
            "Tue\n",
            "Tue\n",
            "Tue\n",
            "Tue\n",
            "Tue\n",
            "Tue\n",
            "Tue\n",
            "Tue\n",
            "Tue\n",
            "Tue\n",
            "Tue\n",
            "Tue\n",
            "Tue\n",
            "Tue\n",
            "Tue\n",
            "Tue\n",
            "Tue\n",
            "Tue\n",
            "Tue\n",
            "Tue\n",
            "Tue\n",
            "Tue\n",
            "Tue\n",
            "Tue\n",
            "Tue\n",
            "Tue\n",
            "Tue\n",
            "Tue\n",
            "Tue\n",
            "Tue\n",
            "Tue\n",
            "Tue\n",
            "Tue\n",
            "Tue\n",
            "Tue\n",
            "Tue\n",
            "Tue\n",
            "Tue\n",
            "Tue\n",
            "Tue\n",
            "Tue\n",
            "Tue\n",
            "Tue\n",
            "Tue\n",
            "Tue\n",
            "Tue\n",
            "Tue\n",
            "Tue\n",
            "Tue\n",
            "Tue\n",
            "Tue\n",
            "Tue\n",
            "Tue\n",
            "Tue\n",
            "Tue\n",
            "Tue\n",
            "Tue\n",
            "Tue\n",
            "Tue\n",
            "Tue\n",
            "Tue\n",
            "Tue\n",
            "Tue\n",
            "Tue\n",
            "Tue\n",
            "Tue\n",
            "Mon\n",
            "Mon\n",
            "Mon\n",
            "Mon\n",
            "Mon\n",
            "Mon\n",
            "Mon\n",
            "Mon\n",
            "Mon\n",
            "Mon\n",
            "Mon\n",
            "Mon\n",
            "Mon\n",
            "Mon\n",
            "Mon\n",
            "Mon\n",
            "Mon\n",
            "Mon\n",
            "Mon\n",
            "Mon\n",
            "Mon\n",
            "Mon\n",
            "Mon\n",
            "Mon\n",
            "Mon\n",
            "Mon\n",
            "Mon\n",
            "Mon\n",
            "Mon\n",
            "Mon\n",
            "Mon\n",
            "Mon\n",
            "Sun\n",
            "Sun\n",
            "Sun\n",
            "Sun\n",
            "Sun\n",
            "Sun\n",
            "Sun\n",
            "Sun\n",
            "Sun\n",
            "Sun\n",
            "Sun\n",
            "Sun\n",
            "Sun\n",
            "Sun\n",
            "Sun\n",
            "Sun\n",
            "Sun\n",
            "Sun\n",
            "Sun\n",
            "Sun\n",
            "Sun\n",
            "Sun\n",
            "Sun\n",
            "Sun\n",
            "Sun\n",
            "Sun\n",
            "Fri\n",
            "Fri\n",
            "Thu\n",
            "Thu\n",
            "Thu\n",
            "Thu\n",
            "Thu\n",
            "Thu\n",
            "Thu\n",
            "Thu\n",
            "Thu\n",
            "Thu\n",
            "Thu\n",
            "Thu\n",
            "Thu\n",
            "Thu\n",
            "Thu\n",
            "Thu\n",
            "Thu\n",
            "Thu\n",
            "Thu\n",
            "Wed\n",
            "Wed\n",
            "Wed\n",
            "Wed\n",
            "Wed\n",
            "Wed\n",
            "Wed\n",
            "Wed\n",
            "Wed\n",
            "Wed\n",
            "Wed\n",
            "Wed\n",
            "Wed\n",
            "Wed\n",
            "Wed\n",
            "Wed\n",
            "Tue\n",
            "Tue\n",
            "Tue\n",
            "Tue\n",
            "Tue\n",
            "Tue\n",
            "Tue\n",
            "Tue\n",
            "Tue\n",
            "Tue\n",
            "Tue\n",
            "Tue\n",
            "Tue\n",
            "Tue\n",
            "Tue\n",
            "Tue\n",
            "Tue\n",
            "Tue\n",
            "Tue\n",
            "Tue\n",
            "Tue\n",
            "Tue\n",
            "Tue\n",
            "Tue\n",
            "Tue\n",
            "Tue\n",
            "Tue\n",
            "Tue\n",
            "Tue\n",
            "Tue\n",
            "Tue\n",
            "Tue\n",
            "Tue\n",
            "Tue\n",
            "Tue\n",
            "Tue\n",
            "Tue\n",
            "Tue\n",
            "Tue\n",
            "Tue\n",
            "Tue\n",
            "Tue\n",
            "Tue\n",
            "Tue\n",
            "Tue\n",
            "Tue\n",
            "Tue\n",
            "Tue\n",
            "Tue\n",
            "Tue\n",
            "Tue\n",
            "Tue\n",
            "Tue\n",
            "Tue\n",
            "Tue\n",
            "Mon\n",
            "Mon\n",
            "Mon\n",
            "Mon\n",
            "Mon\n",
            "Mon\n",
            "Mon\n",
            "Mon\n",
            "Mon\n",
            "Mon\n",
            "Mon\n",
            "Mon\n",
            "Mon\n",
            "Mon\n",
            "Mon\n",
            "Mon\n",
            "Mon\n",
            "Mon\n",
            "Mon\n",
            "Mon\n",
            "Mon\n",
            "Mon\n",
            "Mon\n",
            "Mon\n",
            "Mon\n",
            "Mon\n",
            "Mon\n",
            "Mon\n",
            "Mon\n",
            "Mon\n",
            "Mon\n",
            "Mon\n",
            "Mon\n",
            "Mon\n",
            "Mon\n",
            "Mon\n",
            "Mon\n",
            "Mon\n",
            "Mon\n",
            "Mon\n",
            "Mon\n",
            "Mon\n",
            "Mon\n",
            "Mon\n",
            "Mon\n",
            "Mon\n",
            "Mon\n",
            "Mon\n",
            "Mon\n",
            "Mon\n",
            "Mon\n",
            "Mon\n",
            "Mon\n",
            "Mon\n",
            "Mon\n",
            "Mon\n",
            "Mon\n",
            "Mon\n",
            "Mon\n",
            "Mon\n",
            "Mon\n",
            "Mon\n",
            "Mon\n",
            "Mon\n",
            "Mon\n",
            "Mon\n",
            "Mon\n",
            "Mon\n",
            "Mon\n",
            "Mon\n",
            "Mon\n",
            "Mon\n",
            "Mon\n",
            "Mon\n",
            "Mon\n",
            "Mon\n",
            "Mon\n",
            "Mon\n",
            "Mon\n",
            "Mon\n",
            "Mon\n",
            "Mon\n",
            "Mon\n",
            "Mon\n",
            "Sun\n",
            "Fri\n",
            "Fri\n",
            "Fri\n",
            "Fri\n",
            "Fri\n",
            "Fri\n",
            "Fri\n",
            "Fri\n",
            "Fri\n",
            "Fri\n",
            "Fri\n",
            "Fri\n",
            "Fri\n",
            "Fri\n",
            "Fri\n",
            "Fri\n",
            "Fri\n",
            "Fri\n",
            "Fri\n",
            "Fri\n",
            "Fri\n",
            "Fri\n",
            "Fri\n",
            "Fri\n",
            "Fri\n",
            "Fri\n",
            "Fri\n",
            "Fri\n",
            "Fri\n",
            "Thu\n",
            "Thu\n",
            "Thu\n",
            "Thu\n",
            "Thu\n",
            "Thu\n",
            "Thu\n",
            "Thu\n",
            "Thu\n",
            "Thu\n",
            "Thu\n",
            "Thu\n",
            "Thu\n",
            "Thu\n",
            "Thu\n",
            "Thu\n",
            "Thu\n",
            "Thu\n",
            "Thu\n",
            "Thu\n",
            "Thu\n",
            "Thu\n",
            "Thu\n",
            "Thu\n",
            "Thu\n",
            "Thu\n",
            "Thu\n",
            "Wed\n",
            "Wed\n",
            "Wed\n",
            "Wed\n",
            "Wed\n",
            "Wed\n",
            "Wed\n",
            "Wed\n",
            "Wed\n",
            "Wed\n",
            "Wed\n",
            "Wed\n",
            "Wed\n",
            "Wed\n",
            "Wed\n",
            "Wed\n",
            "Wed\n",
            "Tue\n",
            "Tue\n",
            "Tue\n",
            "Tue\n",
            "Tue\n",
            "Tue\n",
            "Tue\n",
            "Tue\n",
            "Tue\n",
            "Tue\n",
            "Tue\n",
            "Tue\n",
            "Tue\n",
            "Tue\n",
            "Tue\n",
            "Tue\n",
            "Tue\n",
            "Tue\n",
            "Tue\n",
            "Tue\n",
            "Tue\n",
            "Tue\n",
            "Tue\n",
            "Tue\n",
            "Tue\n",
            "Tue\n",
            "Mon\n",
            "Mon\n",
            "Mon\n",
            "Mon\n",
            "Mon\n",
            "Mon\n",
            "Mon\n",
            "Mon\n",
            "Mon\n",
            "Mon\n",
            "Mon\n",
            "Mon\n",
            "Mon\n",
            "Fri\n",
            "Fri\n",
            "Fri\n",
            "Fri\n",
            "Fri\n",
            "Fri\n",
            "Fri\n",
            "Fri\n",
            "Fri\n",
            "Fri\n",
            "Fri\n",
            "Fri\n",
            "Fri\n",
            "Fri\n",
            "Fri\n",
            "Fri\n",
            "Fri\n",
            "Fri\n",
            "Fri\n",
            "Fri\n",
            "Fri\n",
            "Fri\n",
            "Fri\n",
            "Fri\n",
            "Fri\n",
            "Fri\n",
            "Fri\n",
            "Fri\n",
            "Thu\n",
            "Thu\n",
            "Thu\n",
            "Thu\n",
            "Thu\n",
            "Thu\n",
            "Thu\n",
            "Thu\n",
            "Thu\n",
            "Thu\n",
            "Thu\n",
            "Thu\n",
            "Thu\n"
          ]
        }
      ],
      "source": [
        "fhand = open('/content/drive/My Drive/mbox.txt')\n",
        "for line in fhand:\n",
        "  line = line.rstrip()\n",
        "  if not line.startswith('From '):continue\n",
        "  words = line.split()\n",
        "  print(words[2])"
      ]
    },
    {
      "cell_type": "code",
      "execution_count": null,
      "metadata": {
        "id": "yF5fbRyp7Q2D"
      },
      "outputs": [],
      "source": []
    },
    {
      "cell_type": "markdown",
      "metadata": {
        "id": "mgQ2g_rMuKf2"
      },
      "source": [
        "1. สร้างความเข้าใจเกี่ยวกับการใช้ list และ string method โดยพิมพ์คำสั่งจากที่โจทย์กำหนด"
      ]
    },
    {
      "cell_type": "code",
      "execution_count": null,
      "metadata": {
        "id": "y4gph_zSt8PN"
      },
      "outputs": [],
      "source": [
        "s = \"Alan Turing\"\n",
        "Marvel = [\"Ant-Man\", \"INHUMANS\", \"Black panther\", \"Doctor Strange\", \"Sif\", \"Iron-Man\", \\\n",
        "          \"Nova\",\"Spider-Man\"]\n"
      ]
    },
    {
      "cell_type": "code",
      "execution_count": null,
      "metadata": {
        "colab": {
          "base_uri": "https://localhost:8080/"
        },
        "id": "c4x3G-sRuWU8",
        "outputId": "db2dbb70-28c5-4422-8be5-e17e4d88ca49"
      },
      "outputs": [
        {
          "data": {
            "text/plain": [
              "11"
            ]
          },
          "execution_count": 3,
          "metadata": {},
          "output_type": "execute_result"
        }
      ],
      "source": [
        "len(s)"
      ]
    },
    {
      "cell_type": "code",
      "execution_count": null,
      "metadata": {
        "colab": {
          "base_uri": "https://localhost:8080/"
        },
        "id": "gzsJPhI8u3dh",
        "outputId": "c425b9c5-5330-4497-8140-095a3dab9be0"
      },
      "outputs": [
        {
          "data": {
            "text/plain": [
              "1"
            ]
          },
          "execution_count": 6,
          "metadata": {},
          "output_type": "execute_result"
        }
      ],
      "source": [
        "s.count('T')"
      ]
    },
    {
      "cell_type": "code",
      "execution_count": null,
      "metadata": {
        "colab": {
          "base_uri": "https://localhost:8080/"
        },
        "id": "QgNdhL-hvNZl",
        "outputId": "3cad5365-7388-4c81-d750-740861eb89f8"
      },
      "outputs": [
        {
          "data": {
            "text/plain": [
              "False"
            ]
          },
          "execution_count": 7,
          "metadata": {},
          "output_type": "execute_result"
        }
      ],
      "source": [
        "s.startswith(\"Turing\")"
      ]
    },
    {
      "cell_type": "code",
      "execution_count": null,
      "metadata": {
        "colab": {
          "base_uri": "https://localhost:8080/"
        },
        "id": "l6Ha3YeRvVVI",
        "outputId": "e9d4d750-4db3-4461-e200-30f0cb9cc224"
      },
      "outputs": [
        {
          "data": {
            "text/plain": [
              "0"
            ]
          },
          "execution_count": 9,
          "metadata": {},
          "output_type": "execute_result"
        }
      ],
      "source": [
        "s.find(\"Alan\")"
      ]
    },
    {
      "cell_type": "code",
      "execution_count": null,
      "metadata": {
        "colab": {
          "base_uri": "https://localhost:8080/"
        },
        "id": "ziFGKSHUvZin",
        "outputId": "243acda1-dbaf-48db-8da9-e931fdfea68e"
      },
      "outputs": [
        {
          "data": {
            "text/plain": [
              "False"
            ]
          },
          "execution_count": 10,
          "metadata": {},
          "output_type": "execute_result"
        }
      ],
      "source": [
        "s.isalpha()"
      ]
    },
    {
      "cell_type": "code",
      "execution_count": null,
      "metadata": {
        "colab": {
          "base_uri": "https://localhost:8080/"
        },
        "id": "X_sP3jVnvdLM",
        "outputId": "e32f751f-305e-48bd-ea09-eede7bfc1f5a"
      },
      "outputs": [
        {
          "data": {
            "text/plain": [
              "True"
            ]
          },
          "execution_count": 12,
          "metadata": {},
          "output_type": "execute_result"
        }
      ],
      "source": [
        "'abc'.isalpha()"
      ]
    },
    {
      "cell_type": "code",
      "execution_count": null,
      "metadata": {
        "colab": {
          "base_uri": "https://localhost:8080/"
        },
        "id": "kbvN-uNivf_h",
        "outputId": "b4be3504-ea58-4da7-9605-0b6ea4550502"
      },
      "outputs": [
        {
          "data": {
            "text/plain": [
              "True"
            ]
          },
          "execution_count": 13,
          "metadata": {},
          "output_type": "execute_result"
        }
      ],
      "source": [
        "'581'.isdigit()"
      ]
    },
    {
      "cell_type": "code",
      "execution_count": null,
      "metadata": {
        "colab": {
          "base_uri": "https://localhost:8080/"
        },
        "id": "kyzPjZy8vmTB",
        "outputId": "8a1d00e9-53b5-4ec6-be50-0fd4100c33c8"
      },
      "outputs": [
        {
          "data": {
            "text/plain": [
              "['Alan', 'Turing']"
            ]
          },
          "execution_count": 17,
          "metadata": {},
          "output_type": "execute_result"
        }
      ],
      "source": [
        "words = s.split()\n",
        "words"
      ]
    },
    {
      "cell_type": "code",
      "execution_count": null,
      "metadata": {
        "colab": {
          "base_uri": "https://localhost:8080/",
          "height": 35
        },
        "id": "xQVRkylLvvZR",
        "outputId": "23722c41-6426-4588-f161-923874450fb5"
      },
      "outputs": [
        {
          "data": {
            "application/vnd.google.colaboratory.intrinsic+json": {
              "type": "string"
            },
            "text/plain": [
              "'AlanTuring'"
            ]
          },
          "execution_count": 18,
          "metadata": {},
          "output_type": "execute_result"
        }
      ],
      "source": [
        "\"\".join(words)"
      ]
    },
    {
      "cell_type": "code",
      "execution_count": null,
      "metadata": {
        "colab": {
          "base_uri": "https://localhost:8080/",
          "height": 35
        },
        "id": "KuQRL9YjvznF",
        "outputId": "079891e7-4b8d-4f70-dd64-420995d61573"
      },
      "outputs": [
        {
          "data": {
            "application/vnd.google.colaboratory.intrinsic+json": {
              "type": "string"
            },
            "text/plain": [
              "'Aoan Turing'"
            ]
          },
          "execution_count": 19,
          "metadata": {},
          "output_type": "execute_result"
        }
      ],
      "source": [
        "s.replace('l', 'o')"
      ]
    },
    {
      "cell_type": "code",
      "execution_count": null,
      "metadata": {
        "id": "x90jvuvkv5lX"
      },
      "outputs": [],
      "source": [
        "Marvel.sort()"
      ]
    },
    {
      "cell_type": "code",
      "execution_count": null,
      "metadata": {
        "id": "wQa5uuofv9k1"
      },
      "outputs": [],
      "source": [
        "Marvel.insert(0, \"Python\")"
      ]
    },
    {
      "cell_type": "code",
      "execution_count": null,
      "metadata": {
        "id": "zbBN3xB7wAW3"
      },
      "outputs": [],
      "source": [
        "Marvel.append(\"Monty\")"
      ]
    },
    {
      "cell_type": "code",
      "execution_count": null,
      "metadata": {
        "id": "4GQOYSjOwEDf"
      },
      "outputs": [],
      "source": [
        "Marvel.extend([\"Hulk\", \"Thor\"])"
      ]
    },
    {
      "cell_type": "code",
      "execution_count": null,
      "metadata": {
        "id": "I97vln8UwJPr"
      },
      "outputs": [],
      "source": [
        "Marvel.reverse()"
      ]
    },
    {
      "cell_type": "code",
      "execution_count": null,
      "metadata": {
        "colab": {
          "base_uri": "https://localhost:8080/"
        },
        "id": "wV3Wb-AlwNK3",
        "outputId": "49d7fb40-7a31-401f-e390-104727764ca1"
      },
      "outputs": [
        {
          "data": {
            "text/plain": [
              "['Spider-Man', 'Sif']"
            ]
          },
          "execution_count": 26,
          "metadata": {},
          "output_type": "execute_result"
        }
      ],
      "source": [
        "Marvel[3:5]"
      ]
    },
    {
      "cell_type": "code",
      "execution_count": null,
      "metadata": {
        "colab": {
          "base_uri": "https://localhost:8080/",
          "height": 35
        },
        "id": "zMkbAdG_wPYb",
        "outputId": "0f4cc644-9c25-403f-d184-a1507f86a6e5"
      },
      "outputs": [
        {
          "data": {
            "application/vnd.google.colaboratory.intrinsic+json": {
              "type": "string"
            },
            "text/plain": [
              "'Thor'"
            ]
          },
          "execution_count": 27,
          "metadata": {},
          "output_type": "execute_result"
        }
      ],
      "source": [
        "Marvel.pop(0)"
      ]
    },
    {
      "cell_type": "code",
      "execution_count": null,
      "metadata": {
        "id": "gYk4JDuTwQNp"
      },
      "outputs": [],
      "source": [
        "del Marvel[1]"
      ]
    },
    {
      "cell_type": "code",
      "execution_count": null,
      "metadata": {
        "colab": {
          "base_uri": "https://localhost:8080/"
        },
        "id": "Z4gz2185wSqv",
        "outputId": "22422fe2-42e9-4808-f7ae-a846f5d16c73"
      },
      "outputs": [
        {
          "data": {
            "text/plain": [
              "9"
            ]
          },
          "execution_count": 29,
          "metadata": {},
          "output_type": "execute_result"
        }
      ],
      "source": [
        "Marvel.index(\"Python\")"
      ]
    },
    {
      "cell_type": "code",
      "execution_count": null,
      "metadata": {
        "colab": {
          "base_uri": "https://localhost:8080/"
        },
        "id": "gDQv5tHqwW26",
        "outputId": "50811892-2594-4a63-9a64-06a48396e389"
      },
      "outputs": [
        {
          "data": {
            "text/plain": [
              "False"
            ]
          },
          "execution_count": 30,
          "metadata": {},
          "output_type": "execute_result"
        }
      ],
      "source": [
        "\"Monty\" in Marvel"
      ]
    },
    {
      "cell_type": "code",
      "execution_count": null,
      "metadata": {
        "colab": {
          "base_uri": "https://localhost:8080/",
          "height": 35
        },
        "id": "EaBN4uo9waXR",
        "outputId": "0dc323da-8202-4e10-b571-a4071bc8481d"
      },
      "outputs": [
        {
          "data": {
            "application/vnd.google.colaboratory.intrinsic+json": {
              "type": "string"
            },
            "text/plain": [
              "'Ant-Man'"
            ]
          },
          "execution_count": 31,
          "metadata": {},
          "output_type": "execute_result"
        }
      ],
      "source": [
        "min(Marvel)"
      ]
    },
    {
      "cell_type": "code",
      "execution_count": null,
      "metadata": {
        "colab": {
          "base_uri": "https://localhost:8080/",
          "height": 35
        },
        "id": "Sy4SZ48Kwcoq",
        "outputId": "56e559db-a04a-4e0c-b201-865936f19f93"
      },
      "outputs": [
        {
          "data": {
            "application/vnd.google.colaboratory.intrinsic+json": {
              "type": "string"
            },
            "text/plain": [
              "'Spider-Man'"
            ]
          },
          "execution_count": 32,
          "metadata": {},
          "output_type": "execute_result"
        }
      ],
      "source": [
        "max(Marvel)"
      ]
    },
    {
      "cell_type": "markdown",
      "metadata": {
        "id": "Apa6uaQ60RgE"
      },
      "source": [
        "3. จงเขียนโปรแกรมนับคำว่า Alice ที่ปรากฎใน alice.txt"
      ]
    },
    {
      "cell_type": "code",
      "execution_count": 1,
      "metadata": {
        "id": "JrT6mIwr0QeH"
      },
      "outputs": [
        {
          "ename": "FileNotFoundError",
          "evalue": "[Errno 2] No such file or directory: 'alice.txt'",
          "output_type": "error",
          "traceback": [
            "\u001b[1;31m---------------------------------------------------------------------------\u001b[0m",
            "\u001b[1;31mFileNotFoundError\u001b[0m                         Traceback (most recent call last)",
            "Cell \u001b[1;32mIn[1], line 1\u001b[0m\n\u001b[1;32m----> 1\u001b[0m \u001b[38;5;28;01mwith\u001b[39;00m \u001b[38;5;28;43mopen\u001b[39;49m\u001b[43m(\u001b[49m\u001b[38;5;124;43m'\u001b[39;49m\u001b[38;5;124;43malice.txt\u001b[39;49m\u001b[38;5;124;43m'\u001b[39;49m\u001b[43m,\u001b[49m\u001b[43m \u001b[49m\u001b[38;5;124;43m'\u001b[39;49m\u001b[38;5;124;43mr\u001b[39;49m\u001b[38;5;124;43m'\u001b[39;49m\u001b[43m)\u001b[49m \u001b[38;5;28;01mas\u001b[39;00m file:\n\u001b[0;32m      2\u001b[0m     \u001b[38;5;66;03m# อ่านเนื้อหาทั้งหมดของไฟล์\u001b[39;00m\n\u001b[0;32m      3\u001b[0m     content \u001b[38;5;241m=\u001b[39m file\u001b[38;5;241m.\u001b[39mread()\n\u001b[0;32m      5\u001b[0m \u001b[38;5;66;03m# แยกคำออกจากกันโดยใช้ช่องว่าง\u001b[39;00m\n",
            "File \u001b[1;32m~\\AppData\\Roaming\\Python\\Python312\\site-packages\\IPython\\core\\interactiveshell.py:324\u001b[0m, in \u001b[0;36m_modified_open\u001b[1;34m(file, *args, **kwargs)\u001b[0m\n\u001b[0;32m    317\u001b[0m \u001b[38;5;28;01mif\u001b[39;00m file \u001b[38;5;129;01min\u001b[39;00m {\u001b[38;5;241m0\u001b[39m, \u001b[38;5;241m1\u001b[39m, \u001b[38;5;241m2\u001b[39m}:\n\u001b[0;32m    318\u001b[0m     \u001b[38;5;28;01mraise\u001b[39;00m \u001b[38;5;167;01mValueError\u001b[39;00m(\n\u001b[0;32m    319\u001b[0m         \u001b[38;5;124mf\u001b[39m\u001b[38;5;124m\"\u001b[39m\u001b[38;5;124mIPython won\u001b[39m\u001b[38;5;124m'\u001b[39m\u001b[38;5;124mt let you open fd=\u001b[39m\u001b[38;5;132;01m{\u001b[39;00mfile\u001b[38;5;132;01m}\u001b[39;00m\u001b[38;5;124m by default \u001b[39m\u001b[38;5;124m\"\u001b[39m\n\u001b[0;32m    320\u001b[0m         \u001b[38;5;124m\"\u001b[39m\u001b[38;5;124mas it is likely to crash IPython. If you know what you are doing, \u001b[39m\u001b[38;5;124m\"\u001b[39m\n\u001b[0;32m    321\u001b[0m         \u001b[38;5;124m\"\u001b[39m\u001b[38;5;124myou can use builtins\u001b[39m\u001b[38;5;124m'\u001b[39m\u001b[38;5;124m open.\u001b[39m\u001b[38;5;124m\"\u001b[39m\n\u001b[0;32m    322\u001b[0m     )\n\u001b[1;32m--> 324\u001b[0m \u001b[38;5;28;01mreturn\u001b[39;00m \u001b[43mio_open\u001b[49m\u001b[43m(\u001b[49m\u001b[43mfile\u001b[49m\u001b[43m,\u001b[49m\u001b[43m \u001b[49m\u001b[38;5;241;43m*\u001b[39;49m\u001b[43margs\u001b[49m\u001b[43m,\u001b[49m\u001b[43m \u001b[49m\u001b[38;5;241;43m*\u001b[39;49m\u001b[38;5;241;43m*\u001b[39;49m\u001b[43mkwargs\u001b[49m\u001b[43m)\u001b[49m\n",
            "\u001b[1;31mFileNotFoundError\u001b[0m: [Errno 2] No such file or directory: 'alice.txt'"
          ]
        }
      ],
      "source": [
        "with open('alice.txt', 'r') as file:\n",
        "    # อ่านเนื้อหาทั้งหมดของไฟล์\n",
        "    content = file.read()\n",
        "\n",
        "# แยกคำออกจากกันโดยใช้ช่องว่าง\n",
        "words = content.split()\n",
        "\n",
        "# นับจำนวนคำว่า \"Alice\"\n",
        "count = words.count('Alice')\n",
        "\n",
        "# แสดงผลลัพธ์\n",
        "print(f\"The word 'Alice' appears {count} times in the file.\")"
      ]
    },
    {
      "cell_type": "markdown",
      "metadata": {
        "id": "UEDyPn9J0Z95"
      },
      "source": [
        "4. จงเขียนโปรแกรมนับบรรทัดของเนื้อหาในไฟล์ alice.txt"
      ]
    },
    {
      "cell_type": "code",
      "execution_count": 2,
      "metadata": {
        "id": "hfYsJk0_yeM2"
      },
      "outputs": [
        {
          "ename": "FileNotFoundError",
          "evalue": "[Errno 2] No such file or directory: 'alice.txt'",
          "output_type": "error",
          "traceback": [
            "\u001b[1;31m---------------------------------------------------------------------------\u001b[0m",
            "\u001b[1;31mFileNotFoundError\u001b[0m                         Traceback (most recent call last)",
            "Cell \u001b[1;32mIn[2], line 2\u001b[0m\n\u001b[0;32m      1\u001b[0m \u001b[38;5;66;03m# เปิดไฟล์ alice.txt ในโหมดอ่าน\u001b[39;00m\n\u001b[1;32m----> 2\u001b[0m \u001b[38;5;28;01mwith\u001b[39;00m \u001b[38;5;28;43mopen\u001b[39;49m\u001b[43m(\u001b[49m\u001b[38;5;124;43m'\u001b[39;49m\u001b[38;5;124;43malice.txt\u001b[39;49m\u001b[38;5;124;43m'\u001b[39;49m\u001b[43m,\u001b[49m\u001b[43m \u001b[49m\u001b[38;5;124;43m'\u001b[39;49m\u001b[38;5;124;43mr\u001b[39;49m\u001b[38;5;124;43m'\u001b[39;49m\u001b[43m)\u001b[49m \u001b[38;5;28;01mas\u001b[39;00m file:\n\u001b[0;32m      3\u001b[0m     \u001b[38;5;66;03m# อ่านบรรทัดทั้งหมดของไฟล์\u001b[39;00m\n\u001b[0;32m      4\u001b[0m     lines \u001b[38;5;241m=\u001b[39m file\u001b[38;5;241m.\u001b[39mreadlines()\n\u001b[0;32m      6\u001b[0m \u001b[38;5;66;03m# นับจำนวนบรรทัด\u001b[39;00m\n",
            "File \u001b[1;32m~\\AppData\\Roaming\\Python\\Python312\\site-packages\\IPython\\core\\interactiveshell.py:324\u001b[0m, in \u001b[0;36m_modified_open\u001b[1;34m(file, *args, **kwargs)\u001b[0m\n\u001b[0;32m    317\u001b[0m \u001b[38;5;28;01mif\u001b[39;00m file \u001b[38;5;129;01min\u001b[39;00m {\u001b[38;5;241m0\u001b[39m, \u001b[38;5;241m1\u001b[39m, \u001b[38;5;241m2\u001b[39m}:\n\u001b[0;32m    318\u001b[0m     \u001b[38;5;28;01mraise\u001b[39;00m \u001b[38;5;167;01mValueError\u001b[39;00m(\n\u001b[0;32m    319\u001b[0m         \u001b[38;5;124mf\u001b[39m\u001b[38;5;124m\"\u001b[39m\u001b[38;5;124mIPython won\u001b[39m\u001b[38;5;124m'\u001b[39m\u001b[38;5;124mt let you open fd=\u001b[39m\u001b[38;5;132;01m{\u001b[39;00mfile\u001b[38;5;132;01m}\u001b[39;00m\u001b[38;5;124m by default \u001b[39m\u001b[38;5;124m\"\u001b[39m\n\u001b[0;32m    320\u001b[0m         \u001b[38;5;124m\"\u001b[39m\u001b[38;5;124mas it is likely to crash IPython. If you know what you are doing, \u001b[39m\u001b[38;5;124m\"\u001b[39m\n\u001b[0;32m    321\u001b[0m         \u001b[38;5;124m\"\u001b[39m\u001b[38;5;124myou can use builtins\u001b[39m\u001b[38;5;124m'\u001b[39m\u001b[38;5;124m open.\u001b[39m\u001b[38;5;124m\"\u001b[39m\n\u001b[0;32m    322\u001b[0m     )\n\u001b[1;32m--> 324\u001b[0m \u001b[38;5;28;01mreturn\u001b[39;00m \u001b[43mio_open\u001b[49m\u001b[43m(\u001b[49m\u001b[43mfile\u001b[49m\u001b[43m,\u001b[49m\u001b[43m \u001b[49m\u001b[38;5;241;43m*\u001b[39;49m\u001b[43margs\u001b[49m\u001b[43m,\u001b[49m\u001b[43m \u001b[49m\u001b[38;5;241;43m*\u001b[39;49m\u001b[38;5;241;43m*\u001b[39;49m\u001b[43mkwargs\u001b[49m\u001b[43m)\u001b[49m\n",
            "\u001b[1;31mFileNotFoundError\u001b[0m: [Errno 2] No such file or directory: 'alice.txt'"
          ]
        }
      ],
      "source": [
        "# เปิดไฟล์ alice.txt ในโหมดอ่าน\n",
        "with open('alice.txt', 'r') as file:\n",
        "    # อ่านบรรทัดทั้งหมดของไฟล์\n",
        "    lines = file.readlines()\n",
        "\n",
        "# นับจำนวนบรรทัด\n",
        "line_count = len(lines)\n",
        "\n",
        "# แสดงผลลัพธ์\n",
        "print(f\"The number of lines in the file is {line_count}.\")\n"
      ]
    },
    {
      "cell_type": "markdown",
      "metadata": {
        "id": "aL6SORHy0ss7"
      },
      "source": [
        "5. Data output ให้นักศึกษาสร้างความเข้าใจเกี่ยวกับการแสดงผลลัพท์บนหน้าจอด้วย print() ที่ทำงานร่วมกัน string"
      ]
    },
    {
      "cell_type": "code",
      "execution_count": null,
      "metadata": {
        "colab": {
          "base_uri": "https://localhost:8080/"
        },
        "id": "eVQPRTDC00X_",
        "outputId": "e50de535-546d-4ce1-d1a1-42eb78fe23d0"
      },
      "outputs": [
        {
          "name": "stdout",
          "output_type": "stream",
          "text": [
            "His name is  Monty!\n"
          ]
        }
      ],
      "source": [
        "s1 = \"His name is {0}!\".format(\" Monty\")\n",
        "print(s1)"
      ]
    },
    {
      "cell_type": "code",
      "execution_count": null,
      "metadata": {
        "colab": {
          "base_uri": "https://localhost:8080/"
        },
        "id": "6es32xvN1pQh",
        "outputId": "990d6bc5-4310-4637-de1d-7fb907466d20"
      },
      "outputs": [
        {
          "name": "stdout",
          "output_type": "stream",
          "text": [
            "I am CPE and I am 0.6 years old.\n",
            "I am CPE and I am 0.600000 years old\n"
          ]
        }
      ],
      "source": [
        "name = \"CPE\"\n",
        "age = 0.6\n",
        "s2 = \"I am {1} and I am {0} years old.\".format(age, name)\n",
        "print(s2)\n",
        "print(\"I am %s and I am %f years old\" %(name ,age) )"
      ]
    },
    {
      "cell_type": "code",
      "execution_count": 6,
      "metadata": {
        "colab": {
          "base_uri": "https://localhost:8080/"
        },
        "id": "fb3BxJUY1zrE",
        "outputId": "429cf41c-30f0-47c7-a50d-6e7cbb4e4c1a"
      },
      "outputs": [
        {
          "name": "stdout",
          "output_type": "stream",
          "text": [
            "|||Paris          |||    Whitney    |||         Hilton|||Born in 1981|||\n"
          ]
        }
      ],
      "source": [
        "n1 = \"Paris\"\n",
        "n2 = \"Whitney\"\n",
        "n3 = \"Hilton\"\n",
        "print(\"|||{0:<15}|||{1:^15}|||{2:>15}|||Born in {3}|||\" \\\n",
        "                .format(n1,n2,n3,1981))\n"
      ]
    },
    {
      "cell_type": "code",
      "execution_count": null,
      "metadata": {
        "id": "Ore7psij2GZ3"
      },
      "outputs": [],
      "source": []
    },
    {
      "cell_type": "markdown",
      "metadata": {
        "id": "9P3Wwa8b2NIg"
      },
      "source": [
        "6.\tสร้างความเข้าใจเกี่ยวกับการใช้ list comprehensions การสร้าง list ใหม่โดยใช้ข้อมูลจาก list ที่มีอยู่ โดยพิมพ์คำสั่งจากที่โจทย์กำหนด"
      ]
    },
    {
      "cell_type": "code",
      "execution_count": 7,
      "metadata": {
        "colab": {
          "base_uri": "https://localhost:8080/"
        },
        "id": "-ClJcsZ72Rck",
        "outputId": "51d81f78-36eb-42bd-a05e-518341cc4e1a"
      },
      "outputs": [
        {
          "data": {
            "text/plain": [
              "[1, 4, 9]"
            ]
          },
          "execution_count": 7,
          "metadata": {},
          "output_type": "execute_result"
        }
      ],
      "source": [
        "[x ** 2 for x in [1, 2, 3]]"
      ]
    },
    {
      "cell_type": "code",
      "execution_count": null,
      "metadata": {
        "colab": {
          "base_uri": "https://localhost:8080/"
        },
        "id": "fI8E7i2a2Z-k",
        "outputId": "6ef6ff48-c2ca-4b25-ef67-83f96715f17d"
      },
      "outputs": [
        {
          "data": {
            "text/plain": [
              "[0, 1, 4, 9, 16]"
            ]
          },
          "execution_count": 62,
          "metadata": {},
          "output_type": "execute_result"
        }
      ],
      "source": [
        "[x ** 2 for x in range(5)]"
      ]
    },
    {
      "cell_type": "code",
      "execution_count": 9,
      "metadata": {
        "colab": {
          "base_uri": "https://localhost:8080/"
        },
        "id": "wmLjS2Aq2cAi",
        "outputId": "a603ff93-0266-4a21-e433-7a5d9ba558ce"
      },
      "outputs": [
        {
          "data": {
            "text/plain": [
              "[1, 2, 3, 4]"
            ]
          },
          "execution_count": 9,
          "metadata": {},
          "output_type": "execute_result"
        }
      ],
      "source": [
        "nums = [-1, 1, -2, 2, -3, 3, -4, 4]\n",
        "[x for x in nums if x >= 0]"
      ]
    },
    {
      "cell_type": "code",
      "execution_count": 8,
      "metadata": {
        "colab": {
          "base_uri": "https://localhost:8080/"
        },
        "id": "rq73DZRX2gka",
        "outputId": "421a0da5-427f-4c18-a51f-2505c4863ef8"
      },
      "outputs": [
        {
          "data": {
            "text/plain": [
              "[72, 101, 108, 108, 111]"
            ]
          },
          "execution_count": 8,
          "metadata": {},
          "output_type": "execute_result"
        }
      ],
      "source": [
        "[ord(ch) for ch in 'Hello']"
      ]
    },
    {
      "cell_type": "markdown",
      "metadata": {
        "id": "LhEGjQSZWOR8"
      },
      "source": [
        "7. เขียนโปรแกรมเพื่อรับค่าทางคีย์บอร์ด โดยป้อนข้อมูลเข้า list ที่สร้างขึ้นเอง การรับข้อมูลจะรับทีละตัวเลข และรับเรื่อยๆ ไม่มีการกำหนดว่าเท่าไหร่ จนกระทั้งพิมพ์ว่า Done จะแสดงผลลัพธ์ค่าที่น้อยสุด (minimum) และค่าที่มากสุด (maximum)\n"
      ]
    },
    {
      "cell_type": "code",
      "execution_count": 1,
      "metadata": {
        "id": "5U5L2YuMIOC4"
      },
      "outputs": [
        {
          "name": "stdout",
          "output_type": "stream",
          "text": [
            "กรุณาป้อนตัวเลข (พิมพ์ 'Done' เมื่อเสร็จสิ้น):\n",
            "ค่าที่น้อยสุด: 5.0\n",
            "ค่าที่มากสุด: 5.0\n"
          ]
        }
      ],
      "source": [
        "# สร้างลิสต์ว่างเพื่อเก็บข้อมูล\n",
        "numbers = []\n",
        "\n",
        "print(\"กรุณาป้อนตัวเลข :\")\n",
        "\n",
        "while True:\n",
        "    # รับค่าจากคีย์บอร์ด\n",
        "    user_input = input()\n",
        "    \n",
        "    # ตรวจสอบว่าผู้ใช้พิมพ์ 'Done' หรือไม่\n",
        "    if user_input.lower() == 'done':\n",
        "        break\n",
        "    \n",
        "    try:\n",
        "        # แปลงค่าที่รับเข้ามาเป็นตัวเลข\n",
        "        number = float(user_input)\n",
        "        # เพิ่มค่าตัวเลขลงในลิสต์\n",
        "        numbers.append(number)\n",
        "    except ValueError:\n",
        "        print(\"กรุณาป้อนตัวเลขที่ถูกต้อง หรือพิมพ์ 'Done' เพื่อเสร็จสิ้น.\")\n",
        "\n",
        "# ตรวจสอบว่าลิสต์ไม่ว่างเปล่า\n",
        "if numbers:\n",
        "    # หาค่าที่น้อยสุดและมากสุด\n",
        "    min_value = min(numbers)\n",
        "    max_value = max(numbers)\n",
        "    \n",
        "    print(f\"ค่าที่น้อยสุด: {min_value}\")\n",
        "    print(f\"ค่าที่มากสุด: {max_value}\")\n",
        "else:\n",
        "    print(\"ไม่มีข้อมูลให้แสดงผล\")\n"
      ]
    },
    {
      "cell_type": "markdown",
      "metadata": {
        "id": "fY_e_KUznMFr"
      },
      "source": [
        "นาย ก ต้องการส่งรหัสลับให้นาย ข โดยส่งเป็นเลข 0 ถึง 9 จำนวน 32 ตัว แล้วตกลงกับนาย ข ว่า วิธีถอดรหัสลับเป็นดังนี้ (ดูตัวอย่าง\n",
        "ประกอบด้วย)\n",
        "กำหนดให้ เลขซ้ายสุดคือหลักที่ 1\n",
        "\n",
        "1 หยิบเลขหลักที่ 4,11,18,25 และ 32 (คือเริ่มที่ 4 แล้ว\n",
        "ข้ามไปทีละ 7) มาเขียนติดกัน\n",
        "\n",
        "Ex. 12345678901234567890123456789012 <-- หลักที่\n",
        "    92813912398100282033745980018127 <-- ข้อมูล\n",
        "\n",
        "92813912398100282033745980018127 ได้ 18087\n",
        "\n",
        "2 หยิบเลขหลักที่ 8,13,18,23,28 (คือเริ่มที่ 8 แล้วข้ามไป\n",
        "ทีละ 5) มาเขียนติดกัน\n",
        "\n",
        "Ex.92813912398100282033745980018127 ได้ 20051\n",
        "\n",
        "3 นำเลขทั้งสองที่ได้จาก 2 ข้อแรกมาบวกกันแล้วบวกอีก\n",
        "10000\n",
        "\n",
        "Ex. 18087 + 20051 + 10000 = 48138\n",
        "4 เลือกเฉพาะหลักพัน หลักร้อย และหลักสิบของจำนวนที่\n",
        "ได้ในข้อ 3\n",
        "\n",
        "Ex. 48138 --> 813\n",
        "\n",
        "5 นำแต่ละหลักของจำนวนในข้อ 4 มารวมกัน\n",
        "เลือกหลักหน่วย แล้วเพิ่มอีก 1\n",
        "\n",
        "Ex. 813 --> 8 + 1 + 3 = 12 --> 2 + 1 = 3\n",
        "\n",
        "\n",
        "6 แปลงเลขที่ได้ในข้อที่ 5 เป็นตัวอังกฤษตัวใหญ่ โดย\n",
        "1 คือ A, 2 คือ B, 3 คือ C, ..., 9 คือ I, 10 คือ J\n",
        "\n",
        "Ex.3 --> C\n",
        "\n",
        "\n",
        "7 รหัสลับที่ต้องการส่งคือ เลขจากข้อที่ 4 ต่อด้วยตัวอักษร\n",
        "จากข้อที่ 6\n",
        "Ex. 813C\n",
        "\n",
        "**ข้อมูลนำเข้า**\n",
        "\n",
        "ตัวเลขจำนวน 32 หลัก\n",
        "\n",
        "**ข้อมูลส่งออก**\n",
        "\n",
        "รหัสที่ถอดได้จากข้อมูลนำเข้าด้วยวิธีที่กำหนดให้ข้างต้น\n",
        "\n",
        "![Screenshot 2567-08-05 at 10.43.02.png](data:image/png;base64,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)"
      ]
    },
    {
      "cell_type": "code",
      "execution_count": 4,
      "metadata": {
        "id": "jhAAIbhKn5OO"
      },
      "outputs": [
        {
          "name": "stdout",
          "output_type": "stream",
          "text": [
            "รหัสลับที่ถอดได้: 000A\n"
          ]
        }
      ],
      "source": [
        "def decode_secret_code(data):\n",
        "    # ขั้นตอนที่ 1: หยิบเลขหลักที่ 4,11,18,25 และ 32\n",
        "    part1_indices = [4, 11, 18, 25, 32]\n",
        "    part1 = ''.join([data[i - 1] for i in part1_indices])\n",
        "    part1_number = int(part1)\n",
        "\n",
        "    # ขั้นตอนที่ 2: หยิบเลขหลักที่ 8,13,18,23,28\n",
        "    part2_indices = [8, 13, 18, 23, 28]\n",
        "    part2 = ''.join([data[i - 1] for i in part2_indices])\n",
        "    part2_number = int(part2)\n",
        "\n",
        "    # ขั้นตอนที่ 3: นำเลขทั้งสองที่ได้มาบวกกันแล้วบวกอีก 10000\n",
        "    total = part1_number + part2_number + 10000\n",
        "\n",
        "    # ขั้นตอนที่ 4: เลือกเฉพาะหลักพัน หลักร้อย และหลักสิบ\n",
        "    total_str = str(total)\n",
        "    if len(total_str) >= 3:\n",
        "        last_three_digits = total_str[-4:-1]\n",
        "    else:\n",
        "        last_three_digits = total_str.zfill(3)\n",
        "    \n",
        "    # ขั้นตอนที่ 5: นำแต่ละหลักของจำนวนในข้อ 4 มารวมกัน\n",
        "    digit_sum = sum(int(digit) for digit in last_three_digits)\n",
        "    \n",
        "    # เลือกหลักหน่วยแล้วเพิ่มอีก 1\n",
        "    final_digit = (digit_sum % 10) + 1\n",
        "\n",
        "    # ขั้นตอนที่ 6: แปลงเลขที่ได้เป็นตัวอักษร\n",
        "    letters = \"ABCDEFGHIJ\"\n",
        "    final_letter = letters[final_digit - 1]\n",
        "\n",
        "    # ขั้นตอนที่ 7: รหัสลับที่ต้องการส่ง\n",
        "    secret_code = last_three_digits + final_letter\n",
        "    \n",
        "    return secret_code\n",
        "\n",
        "# รับข้อมูลจากคีย์บอร์ด\n",
        "data = input(\"กรุณาป้อนข้อมูล 32 หลัก: \")\n",
        "\n",
        "# ตรวจสอบความยาวของข้อมูล\n",
        "if len(data) != 32 or not data.isdigit():\n",
        "    print(\"ข้อมูลไม่ถูกต้อง กรุณาป้อนตัวเลข 32 หลัก\")\n",
        "else:\n",
        "    # ถอดรหัส\n",
        "    secret_code = decode_secret_code(data)\n",
        "    print(f\"รหัสลับที่ถอดได้: {secret_code}\")\n"
      ]
    }
  ],
  "metadata": {
    "colab": {
      "provenance": []
    },
    "kernelspec": {
      "display_name": "Python 3",
      "name": "python3"
    },
    "language_info": {
      "codemirror_mode": {
        "name": "ipython",
        "version": 3
      },
      "file_extension": ".py",
      "mimetype": "text/x-python",
      "name": "python",
      "nbconvert_exporter": "python",
      "pygments_lexer": "ipython3",
      "version": "3.12.4"
    }
  },
  "nbformat": 4,
  "nbformat_minor": 0
}
